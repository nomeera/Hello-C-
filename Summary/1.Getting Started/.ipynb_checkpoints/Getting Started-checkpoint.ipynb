{
 "cells": [
  {
   "cell_type": "markdown",
   "id": "44e7843e",
   "metadata": {},
   "source": [
    "# Hello C++"
   ]
  },
  {
   "cell_type": "markdown",
   "id": "bb510f9b",
   "metadata": {},
   "source": [
    "## Writing a Simple C++ Program\n",
    "Every C++ program contains one or more functions, one of which must be named\n",
    "main.\n",
    " + The main function is required to have a return type of int"
   ]
  },
  {
   "cell_type": "code",
   "execution_count": 1,
   "id": "92bbc3ab",
   "metadata": {},
   "outputs": [],
   "source": [
    "int main()\n",
    "{\n",
    "    return 0;\n",
    "}"
   ]
  },
  {
   "cell_type": "markdown",
   "id": "d4dd3b58",
   "metadata": {},
   "source": [
    "### A function definition has four elements: \n",
    "a return type, a function name, a (possibly empty) parameter list enclosed in parentheses, and a function body\n",
    "-  a return, which is a statement that terminates a function\n",
    "- When a return statement includes a value, the value returned must have a type that is compatible with the return type of the function. In this case, the return type of main is ***int*** and the return value is 0, which is an int.\n",
    "\n",
    "***On most systems, the value returned from main is a status indicator. A return\n",
    "value of 0 indicates success. A nonzero return has a meaning that is defined by the\n",
    "system. Ordinarily a nonzero return indicates what kind of error occurred***\n",
    "\n",
    "---"
   ]
  },
  {
   "cell_type": "markdown",
   "id": "4da871d9",
   "metadata": {},
   "source": [
    "# Compiling and Executing Our Program"
   ]
  },
  {
   "cell_type": "markdown",
   "id": "53cc8ce3",
   "metadata": {},
   "source": [
    "- Having written the program, we need to compile it. Compiling depends on your operating system and compiler.\n",
    "- Many PC-based compilers are run from an integrated development environment (IDE)\n",
    "- Most compilers, including those that come with an IDE, provide a commandline interface.\n",
    "\n",
    "Diffrecnt compiler use diffrent source file (.cc | .cxx | .cpp | .cp | .c)"
   ]
  },
  {
   "cell_type": "markdown",
   "id": "e6605301",
   "metadata": {},
   "source": [
    "<details>\n",
    "     <summary> <button type=\"button\">Software Development Cycle</button> </summary>\n",
    "        <img src=\"./Software Development Cycle.jpeg\" alt=\"Software Development Cycle\"/>\n",
    "</details>\n"
   ]
  },
  {
   "cell_type": "markdown",
   "id": "5b5a98af",
   "metadata": {},
   "source": [
    "#### Running the Compiler from the Command Line (Linux)\n",
    "<div class=\"alert alert-block alert-success\">\n",
    "    nano hello_c++.cpp<br>\n",
    "</div>\n",
    "<div class=\"alert alert-block alert-success\">\n",
    "    g++ hello_c++.cpp<br>\n",
    "</div>\n",
    "<div class=\"alert alert-block alert-success\">\n",
    "    ./a.out<br>\n",
    "</div>\n",
    "\n",
    "**g++ is a compiler that generate an executable file a.out**\n",
    "<div class=\"alert alert-block alert-success\">\n",
    "g++ -o hello_c++ hello_c++.cc\n",
    "</div>\n",
    "\n",
    "**The -o is an argument to the compiler and names the file in which to put the executable file**\n",
    "\n",
    "---"
   ]
  },
  {
   "cell_type": "markdown",
   "id": "eace1130",
   "metadata": {},
   "source": [
    "### A debugger\n",
    "\n",
    "A debugger is a tool that helps you find and fix issues in your code, also known as \"bugs.\" It allows you to execute your code line by line, inspect the state of variables at each step, and set breakpoints to pause the execution of the code at specific points. This can help you identify where the issue is occurring and understand why it is happening.\n",
    "\n",
    "There are many different debuggers available for C++, including command-line debuggers such as GDB and LLDB, and graphical debuggers such as the Visual Studio Debugger. Some IDEs also include built-in debuggers that allow you to debug your code directly from within the development environment.\n",
    "\n",
    "To use a debugger, you will need to compile your code with debugging symbols included. This will allow the debugger to match the executed code with the source code, allowing you to see the state of variables and the flow of execution in your program.\n",
    "\n",
    "\n",
    "\n",
    "\n"
   ]
  },
  {
   "cell_type": "markdown",
   "id": "cdd1b42e",
   "metadata": {},
   "source": [
    "### The process of writing and executing C++ code typically involves the following steps:  \n",
    "1. Write the source code using a text editor or an IDE.\n",
    "\n",
    "2. Compile the source code using a C++ compiler.\n",
    "\n",
    "3. If the compilation process was successful, run the executable file and test it to see if it behaves as expected.\n",
    "\n",
    "4. If the program is not running as expected, use a debugger to identify the cause of the issue.\n",
    "\n",
    "5. Make changes to the code to fix any issues that were identified.\n",
    "\n",
    "6. Repeat the compilation and testing process until the program is running correctly.\n",
    "\n",
    "7. Once the program is running as expected, it can be modified and the process can be repeated as needed."
   ]
  },
  {
   "cell_type": "markdown",
   "id": "a6fcb27a",
   "metadata": {},
   "source": [
    "# A First Look at Input/Output"
   ]
  },
  {
   "cell_type": "markdown",
   "id": "97c46ac4",
   "metadata": {},
   "source": [
    "The C++ language does not define any statements to do input or output (IO). Instead, C++ includes an extensive standard library that provides IO (and many other facilities).\n",
    "iostream library are two types named istream and ostream, which represent input and output streams."
   ]
  },
  {
   "cell_type": "markdown",
   "id": "bb429bb1",
   "metadata": {},
   "source": [
    "* A stream is a sequence of characters read from or written to an IO device. The term stream is intended to suggest that the characters are generated, or consumed, sequentially over time ( ^_^ LOL!!!!)"
   ]
  },
  {
   "cell_type": "markdown",
   "id": "86a87c40",
   "metadata": {},
   "source": [
    "### Standard Input and Output Objects"
   ]
  },
  {
   "cell_type": "markdown",
   "id": "c4089a1e",
   "metadata": {
    "slideshow": {
     "slide_type": "skip"
    }
   },
   "source": [
    "#### The library defines four IO objects\n",
    "1. cin  >>> standard input  (istream object)\n",
    "2. cout >>> standard output (ostream object)\n",
    "3. cerr >>> standard error, for warning and error messages (ostream object)\n",
    "4. clog >>> general information about the execution of the program (ostream object)\n",
    "\n",
    "<code style=\"background:green;color:black\">Ordinarily, the system associates each of these objects with the window in which the program is executed So, when we read from cin, data are read from the window in which the program is executing, and when we write to cout, cerr, or clog, the output is written to the same window"
   ]
  },
  {
   "cell_type": "code",
   "execution_count": null,
   "id": "aa8a0e73",
   "metadata": {
    "scrolled": true,
    "slideshow": {
     "slide_type": "skip"
    }
   },
   "outputs": [
    {
     "name": "stdout",
     "output_type": "stream",
     "text": [
      "Enter two numbers:\n"
     ]
    }
   ],
   "source": [
    "#include <iostream> //The name insideangle brackets (iostream in this case) refers to a header.\n",
    "int main()\n",
    "{\n",
    "    std::cout << \"Enter two numbers:\" << std::endl;\n",
    "    int v1 = 0, v2 = 0;\n",
    "    std::cin>> v1 >> v2;\n",
    "    std::cout << \"The sum of \" << v1 << \" and \" << v2 \n",
    "              << \" is \" << v1 + v2 << std::endl; \n",
    "    return 0;\n",
    "    /* endl : manipulator \n",
    "        Writing endl has the effect of ending the current line and flushing the buffer\n",
    "        associated with that device. Flushing the buffer ensures that all the output the\n",
    "        program has generated so far is actually written to the output stream, rather than\n",
    "        sitting in memory waiting to be written. \n",
    "    */\n",
    "    /* Namespace\n",
    "        The prefix std:: indicates that the names cout and endl are defined inside the namespace named std.\n",
    "        Namespaces allow us to avoid inadvertent collisions between the names we define and uses of those \n",
    "        same names inside a library.\n",
    "    */\n",
    "}\n",
    "main();"
   ]
  },
  {
   "cell_type": "markdown",
   "id": "51b61d2e",
   "metadata": {},
   "source": [
    "---"
   ]
  },
  {
   "cell_type": "markdown",
   "id": "334e4f9d",
   "metadata": {},
   "source": [
    "<html><head>\n",
    "\n",
    "\n",
    "<!-- Load require.js. Delete this if your page already loads require.js -->\n",
    "<script src=\"https://cdnjs.cloudflare.com/ajax/libs/require.js/2.3.4/require.min.js\" integrity=\"sha256-Ae2Vz/4ePdIu6ZyI/5ZGsYnb+m0JlOmKPjt6XZ9JJkA=\" crossorigin=\"anonymous\"></script>\n",
    "<script src=\"https://cdn.jsdelivr.net/npm/@jupyter-widgets/html-manager@*/dist/embed-amd.js\" crossorigin=\"anonymous\"></script>\n",
    "<script type=\"application/vnd.jupyter.widget-state+json\">\n",
    "{\n",
    "    \"version_major\": 2,\n",
    "    \"version_minor\": 0,\n",
    "    \"state\": {}\n",
    "}\n",
    "</script>\n",
    "</head>\n",
    "<body>\n",
    "\n",
    "\n",
    "</body>\n",
    "</html>\n"
   ]
  },
  {
   "cell_type": "markdown",
   "id": "5e719a28",
   "metadata": {},
   "source": [
    "##  Flow of Control\n",
    "Statements normally execute sequentially: The first statement in a block is executed first, followed by the second, and so on.  \n",
    "Instead, programming languages provide various flow-of-control statements that allow for more complicated execution paths."
   ]
  },
  {
   "cell_type": "markdown",
   "id": "1b00fe25",
   "metadata": {},
   "source": [
    "### The while Statement\n",
    "A while statement repeatedly executes a section of code so long as a given condition is true.  \n",
    "while (condition)  \n",
    "{  \n",
    "      statement  \n",
    "}"
   ]
  },
  {
   "cell_type": "code",
   "execution_count": 16,
   "id": "64faa68f",
   "metadata": {},
   "outputs": [
    {
     "name": "stdout",
     "output_type": "stream",
     "text": [
      "Sum of 1 to 10 inclusive is 55\n"
     ]
    }
   ],
   "source": [
    "#include <iostream>\n",
    "int main()\n",
    "{\n",
    "    int sum = 0, val = 1;\n",
    "    // keep executing the while as long as val is less than or equal to 10\n",
    "    while (val <= 10) \n",
    "    {\n",
    "        sum += val; // assigns sum + val to sum\n",
    "        ++val; // add 1 to val\n",
    "    }\n",
    "    std::cout << \"Sum of 1 to 10 inclusive is \"\n",
    "              << sum << std::endl;\n",
    "    return 0;\n",
    "}\n",
    "main();"
   ]
  },
  {
   "cell_type": "markdown",
   "id": "2c4a0235",
   "metadata": {},
   "source": [
    "### The for Statement\n",
    "In our while loop we used the variable val to control how many times we executed the loop. We tested the value of val in the condition and incremented val\n",
    "in the while body.  \n",
    "This pattern—using a variable in a condition and incrementing that variable\n",
    "in the body—happens so often that the language defines a second statement, the\n",
    "for statement, that abbreviates code that follows this pattern. We can rewrite this\n",
    "program using a for loop to sum the numbers from 1 through 10 as follows:"
   ]
  },
  {
   "cell_type": "code",
   "execution_count": 17,
   "id": "f3480605",
   "metadata": {},
   "outputs": [
    {
     "name": "stdout",
     "output_type": "stream",
     "text": [
      "Sum of 1 to 10 inclusive is 55\n"
     ]
    }
   ],
   "source": [
    "#include <iostream>\n",
    "int main()\n",
    "{\n",
    "    int sum = 0;\n",
    "    // sum values from 1 through 10 inclusive\n",
    "    for (int val = 1; val <= 10; ++val)\n",
    "        sum += val; // equivalent to sum = sum + val\n",
    "    std::cout << \"Sum of 1 to 10 inclusive is \"\n",
    "              << sum << std::endl;\n",
    "    return 0;\n",
    "}\n",
    "main();"
   ]
  },
  {
   "cell_type": "markdown",
   "id": "d4c25e87",
   "metadata": {},
   "source": [
    "for statement has two parts: a header and a body.  \n",
    " + The header controls how often the body is executed.  \n",
    " + The header itself consists of three parts: (init-statement; condition; expression).\n",
    " + The variable valexists only inside the for;"
   ]
  },
  {
   "cell_type": "code",
   "execution_count": 7,
   "id": "9618efbe",
   "metadata": {},
   "outputs": [
    {
     "name": "stdout",
     "output_type": "stream",
     "text": [
      "1 2 3 4 a\n",
      "Sum is: 10\n"
     ]
    },
    {
     "data": {
      "text/plain": [
       "0"
      ]
     },
     "execution_count": 7,
     "metadata": {},
     "output_type": "execute_result"
    }
   ],
   "source": [
    "// Reading an Unknown Number of Inputs\n",
    "#include <iostream>\n",
    "int main()\n",
    "{\n",
    "    int sum = 0, value = 0;\n",
    "    // read until end-of-file, calculating a running total of all values read\n",
    "    while (std::cin >> value)\n",
    "        sum += value; // equivalent to sum = sum + value\n",
    "    std::cout << \"Sum is: \" << sum << std::endl;\n",
    "    return 0;\n",
    "}\n",
    "main();\n",
    "/*\n",
    "If the stream is valid—that is, if the stream hasn’t encountered an error—\n",
    "then the test succeeds. An istream becomes invalid when we hit end-of-file or\n",
    "encounter an invalid input (not int)\n",
    "*/"
   ]
  },
  {
   "cell_type": "markdown",
   "id": "46313b5a",
   "metadata": {},
   "source": [
    "### The if Statement\n",
    "Like most languages, C++ provides an if statement that supports conditional execution. We can use an if to write a program to count how many consecutive times\n",
    "each distinct value appears in the input:"
   ]
  },
  {
   "cell_type": "code",
   "execution_count": 19,
   "id": "a56213d4",
   "metadata": {},
   "outputs": [
    {
     "name": "stdout",
     "output_type": "stream",
     "text": [
      "Enter your password: password123\n",
      "Access granted!\n"
     ]
    }
   ],
   "source": [
    "#include <iostream>\n",
    "#include <string>\n",
    "\n",
    "int main() {\n",
    "  std::string password = \"password123\";\n",
    "  std::string input;\n",
    "\n",
    "  std::cout << \"Enter your password: \";\n",
    "  std::cin >> input;\n",
    "\n",
    "  if (input == password) {\n",
    "    std::cout << \"Access granted!\" << std::endl;\n",
    "  } else {\n",
    "    std::cout << \"Access denied. Incorrect password.\" << std::endl;\n",
    "  }\n",
    "\n",
    "  return 0;\n",
    "}\n",
    "main();"
   ]
  },
  {
   "cell_type": "markdown",
   "id": "dd10ab6e",
   "metadata": {},
   "source": [
    "---"
   ]
  },
  {
   "cell_type": "markdown",
   "id": "b93c2b3d",
   "metadata": {},
   "source": [
    "## Introducing Classes"
   ]
  },
  {
   "cell_type": "markdown",
   "id": "b856c199",
   "metadata": {},
   "source": [
    "we define our own data structures by defining a class. A class defines a type along\n",
    "with a collection of operations that are related to that type. The class mechanism\n",
    "is one of the most important features in C++. In fact, a primary focus of the design\n",
    "of C++ is to make it possible to define class types that behave as naturally as the\n",
    "built-in types."
   ]
  },
  {
   "cell_type": "markdown",
   "id": "ad93c923",
   "metadata": {},
   "source": [
    "To use a class we need to know three things:\n",
    "* What is its name?\n",
    "* Where is it defined?\n",
    "* What operations does it support?\n",
    "> * we use headers to access classes defined for our own applications.  \n",
    "> * Header files that we write usually have a suffix of .h, but some programmers use .H, .hpp, or .hxx  \n",
    "> * The standard library headers typically have no suffix.\n",
    "> * Every class defines a type. The type name is the same as the name of the class.  \n",
    "  \n",
    "  \n",
    "<code style=\"background:green;color:black\">The important thing to keep in mind that the class author determines all the operations that can be used on objects of the class type.  \n"
   ]
  },
  {
   "cell_type": "markdown",
   "id": "78e32ec7",
   "metadata": {},
   "source": [
    "---"
   ]
  },
  {
   "cell_type": "markdown",
   "id": "4c5ceca7",
   "metadata": {},
   "source": [
    "## ex: The Sales_item Class\n",
    "The purpose of the Sales_item class is to represent the total revenue, number\n",
    "of copies sold, and average sales price for a book. How these data are stored or\n",
    "computed is not our concern. To use a class, we need not care about how it is\n",
    "implemented. Instead, what we need to know is what operations objects of that\n",
    "type can perform.\n"
   ]
  },
  {
   "cell_type": "code",
   "execution_count": 1,
   "id": "0bda51da",
   "metadata": {},
   "outputs": [
    {
     "name": "stdout",
     "output_type": "stream",
     "text": [
      "0-201-70353-X 4 24.99\n",
      "0-201-70353-X 4 99.96 24.99\n"
     ]
    }
   ],
   "source": [
    "#include \"/media/nomeer/NoMeEr/Robotics/5.C++/Summary/C++.Primer.5th.Edition_2013_CODE/1/Sales_item.h\"\n",
    "#include <iostream>\n",
    "\n",
    "int main()\n",
    "{\n",
    "    Sales_item book;\n",
    "    // read ISBN, number of copies sold, and sales price\n",
    "    std::cin >> book;\n",
    "    // write ISBN, number of copies sold, total revenue, and average price\n",
    "    std::cout << book << std::endl;\n",
    "    return 0;\n",
    "}\n",
    "main();"
   ]
  },
  {
   "cell_type": "markdown",
   "id": "982d0150",
   "metadata": {},
   "source": [
    "### Adding Sales_items"
   ]
  },
  {
   "cell_type": "code",
   "execution_count": 11,
   "id": "b4cf30ce",
   "metadata": {},
   "outputs": [
    {
     "name": "stdout",
     "output_type": "stream",
     "text": [
      "0-201-78345-X 3 20.00\n",
      "0-201-78345-X 2 25.00\n",
      "0-201-78345-X 5 110 22\n"
     ]
    },
    {
     "data": {
      "text/plain": [
       "0"
      ]
     },
     "execution_count": 11,
     "metadata": {},
     "output_type": "execute_result"
    }
   ],
   "source": [
    "#include <iostream>\n",
    "#include \"/media/nomeer/NoMeEr/Robotics/5.C++/Summary/C++.Primer.5th.Edition_2013_CODE/1/Sales_item.h\"\n",
    "int main()\n",
    "{\n",
    "    Sales_item item1, item2;\n",
    "    std::cin >> item1 >> item2; // read a pair of transactions\n",
    "    std::cout << item1 + item2 << std::endl; // print their sum\n",
    "    return 0;\n",
    "}\n",
    "main();\n",
    "/*\n",
    "In the case of ints we are generating a conventional sum—the result of adding two numeric values. \n",
    "In the case of Sales_item objects we use a conceptually new meaning for sum—the result of adding \n",
    "the components of two Sales_item objects.\n",
    "*/"
   ]
  },
  {
   "cell_type": "markdown",
   "id": "a38e9f4b",
   "metadata": {},
   "source": [
    "### A First Look at Member Functions\n",
    "Our program that adds two Sales_items should check whether the objects have\n",
    "the same ISBN. We’ll do so as follows:"
   ]
  },
  {
   "cell_type": "code",
   "execution_count": 13,
   "id": "eb9d1337",
   "metadata": {},
   "outputs": [
    {
     "name": "stdout",
     "output_type": "stream",
     "text": [
      "0-201-78345-X 2 25.00\n",
      "0-201-73345-X 2 25.00\n"
     ]
    },
    {
     "name": "stderr",
     "output_type": "stream",
     "text": [
      "Data must refer to same ISBN\n"
     ]
    }
   ],
   "source": [
    "#include <iostream>\n",
    "#include \"/media/nomeer/NoMeEr/Robotics/5.C++/Summary/C++.Primer.5th.Edition_2013_CODE/1/Sales_item.h\"\n",
    "int main()\n",
    "{\n",
    "    Sales_item item1, item2;\n",
    "    std::cin >> item1 >> item2;\n",
    "    // first check that item1 and item2 represent the same book\n",
    "    if (item1.isbn() == item2.isbn()) \n",
    "    {\n",
    "        std::cout << item1 + item2 << std::endl;\n",
    "        return 0; // indicate success\n",
    "    } \n",
    "    else\n",
    "    {\n",
    "        std::cerr << \"Data must refer to same ISBN\"\n",
    "        << std::endl;\n",
    "        return -1; // indicate failure\n",
    "    }\n",
    "}\n",
    "main();"
   ]
  },
  {
   "cell_type": "markdown",
   "id": "614e352b",
   "metadata": {},
   "source": [
    "### What Is a Member Function?\n",
    "The if condition  \n",
    ">item1.isbn() == item2.isbn()  \n",
    "* \n",
    "a member function named isbn. A member function is a function that is\n",
    "defined as part of a class. Member functions are sometimes referred to as methods.  \n",
    "Ordinarily, we call a member function on behalf of an object.  \n",
    "* uses the dot operator (the “.” operator) to say that we want “the isbn member of the object named item1.”  \n",
    "* The left-hand operand must be an object of class type, and the right-hand operand must name a member of that type."
   ]
  },
  {
   "cell_type": "markdown",
   "id": "b3069d29",
   "metadata": {},
   "source": [
    "---"
   ]
  },
  {
   "cell_type": "markdown",
   "id": "0997eaa4",
   "metadata": {},
   "source": [
    "### The Bookstore Program\n",
    "We are now ready to solve our original bookstore problem. We need to read a\n",
    "file of sales transactions and produce a report that shows, for each book, the total\n",
    "number of copies sold, the total revenue, and the average sales price. We’ll assume\n",
    "that all the transactions for each ISBN are grouped together in the input.\n",
    "Our program will combine the data for each ISBN in a variable named total.\n",
    "We’ll use a second variable named trans to hold each transaction we read. If\n",
    "trans and total refer to the same ISBN, we’ll update total. Otherwise we’ll\n",
    "print total and reset it using the transaction we just read:"
   ]
  },
  {
   "cell_type": "code",
   "execution_count": null,
   "id": "439db7e6",
   "metadata": {},
   "outputs": [],
   "source": [
    "#include <iostream>\n",
    "#include \"/media/nomeer/NoMeEr/Robotics/5.C++/Summary/C++.Primer.5th.Edition_2013_CODE/1/Sales_item.h\"\n",
    "int main()\n",
    "{\n",
    "    Sales_item total; // variable to hold data for the next transaction\n",
    "    // read the first transaction and ensure that there are data to process\n",
    "    if (std::cin >> total) \n",
    "    {\n",
    "        Sales_item trans; // variable to hold the running sum\n",
    "        // read and process the remaining transactions\n",
    "        while (std::cin >> trans) \n",
    "        {\n",
    "            // if we’re still processing the same book\n",
    "            if (total.isbn() == trans.isbn())\n",
    "                total += trans; // update the running total\n",
    "            else \n",
    "            {\n",
    "                // print results for the previous book\n",
    "                std::cout << total << std::endl;\n",
    "                total = trans; // total now refers to the next book\n",
    "            }\n",
    "        }\n",
    "        std::cout << total << std::endl; // print the last transaction\n",
    "    } \n",
    "    else \n",
    "    { \n",
    "        // no input! warn the user\n",
    "        std::cerr << \"No data?!\" << std::endl;\n",
    "        return -1; // indicate failure\n",
    "    }\n",
    "    return 0;\n",
    "}\n",
    "main();"
   ]
  },
  {
   "cell_type": "markdown",
   "id": "acfbaaa1",
   "metadata": {},
   "source": [
    "--- "
   ]
  },
  {
   "cell_type": "markdown",
   "id": "0e94af96",
   "metadata": {},
   "source": [
    "# SUMMARY\n"
   ]
  },
  {
   "cell_type": "markdown",
   "id": "846166f7",
   "metadata": {},
   "source": [
    "<details>\n",
    "     <summary> <button type=\"button\">click to view</button> </summary>\n",
    "        <img src=\"./C++_Primer_5th_Edition_2013_page-0001.jpg\" alt=\"Software Development Cycle\"/>\n",
    "        <img src=\"./C++_Primer_5th_Edition_2013_page-0002.jpg\" alt=\"Software Development Cycle\"/>\n",
    "        <img src=\"./C++_Primer_5th_Edition_2013_page-0003.jpg\" alt=\"Software Development Cycle\"/>\n",
    "</details>\n"
   ]
  },
  {
   "cell_type": "markdown",
   "id": "2c7bf5b9",
   "metadata": {},
   "source": [
    "---"
   ]
  }
 ],
 "metadata": {
  "kernelspec": {
   "display_name": "C++17",
   "language": "C++17",
   "name": "xcpp17"
  },
  "language_info": {
   "codemirror_mode": "text/x-c++src",
   "file_extension": ".cpp",
   "mimetype": "text/x-c++src",
   "name": "c++",
   "version": "17"
  }
 },
 "nbformat": 4,
 "nbformat_minor": 5
}
