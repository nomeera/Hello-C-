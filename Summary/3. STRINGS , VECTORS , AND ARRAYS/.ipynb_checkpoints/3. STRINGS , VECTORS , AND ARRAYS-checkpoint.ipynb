{
 "cells": [
  {
   "cell_type": "markdown",
   "id": "467e9950",
   "metadata": {},
   "source": [
    "# STRINGS , VECTORS , AND ARRAYS"
   ]
  },
  {
   "cell_type": "markdown",
   "id": "fb4f398d",
   "metadata": {},
   "source": [
    "The standard library defines a number of\n",
    "additional types of a higher-level nature that computer hardware usually does not\n",
    "implement directly.  \n",
    "A **string** is a variable-length sequence of characters.  \n",
    "A **vector** holds a variable-length sequence of objects."
   ]
  },
  {
   "cell_type": "markdown",
   "id": "95b4b3dd",
   "metadata": {},
   "source": [
    "* Before beginning our exploration of the library types, we’ll look at a mechanism for simplifying access to the names defined in the library.  \n",
    "## Namespace using Declarations"
   ]
  },
  {
   "cell_type": "markdown",
   "id": "79e07221",
   "metadata": {},
   "source": [
    "Up to now, our programs have explicitly indicated that each library name we use\n",
    "is in the std namespace. For example, to read from the standard input, we write\n",
    "std::cin. These names use the scope operator (::).  \n",
    "we look in the scope std. | a namespace_name:: prefix.  \n",
    "**std::cin** says that we want to use the name cin from the namespace std"
   ]
  },
  {
   "cell_type": "markdown",
   "id": "27c356ea",
   "metadata": {},
   "source": [
    "There are easier ways to use **namespace** members. The safest way is a **using** declaration  \n",
    "using namespace::name;"
   ]
  },
  {
   "cell_type": "code",
   "execution_count": 8,
   "id": "4c07fbf1",
   "metadata": {},
   "outputs": [
    {
     "name": "stdout",
     "output_type": "stream",
     "text": [
      "5\n",
      "5"
     ]
    }
   ],
   "source": [
    "using std::cin; // using declaration; when we use the name cin, we get the one from the namespace std\n",
    "#include <iostream>\n",
    "\n",
    "int main()\n",
    "{\n",
    "    int i;\n",
    "    cin >> i;\n",
    "    //cout << i; // error: no using declaration; we must use the full name\n",
    "    std::cout << i;\n",
    "    return 0;\n",
    "}\n",
    "main();"
   ]
  },
  {
   "cell_type": "code",
   "execution_count": 19,
   "id": "ff5be19d",
   "metadata": {},
   "outputs": [
    {
     "name": "stdout",
     "output_type": "stream",
     "text": [
      "Enter two numbers:\n",
      "1\n",
      "2\n",
      "The sum of 1 and 2 is 3\n"
     ]
    }
   ],
   "source": [
    "#include <iostream>\n",
    "// using declarations for names from the standard library\n",
    "using std::cin; using std::cout; using std::endl;\n",
    "// using namespace std; (Best practice)\n",
    "\n",
    "int main()\n",
    "{\n",
    "\n",
    "    cout << \"Enter two numbers:\" << endl;\n",
    "    \n",
    "    int v1, v2;\n",
    "    cin >> v1 >> v2;\n",
    "    cout << \"The sum of \" << v1 << \" and \" << v2\n",
    "         << \" is \" << v1 + v2 << endl;\n",
    "    \n",
    "    return 0;\n",
    "}\n",
    "main();"
   ]
  },
  {
   "cell_type": "markdown",
   "id": "a8382c53",
   "metadata": {},
   "source": [
    "### Headers Should Not Include using Declarations\n",
    "Code inside headers (§ 2.6.3, p. 76) ordinarily should not use using declarations.\n",
    "The reason is that the contents of a header are copied into the including program’s\n",
    "text. If a header has a using declaration, then every program that includes that\n",
    "header gets that same using declaration. As a result, a program that didn’t intend\n",
    "to use the specified library name might encounter unexpected name conflicts."
   ]
  },
  {
   "cell_type": "code",
   "execution_count": null,
   "id": "0dc18c42",
   "metadata": {},
   "outputs": [],
   "source": []
  },
  {
   "cell_type": "code",
   "execution_count": null,
   "id": "218be045",
   "metadata": {},
   "outputs": [],
   "source": []
  },
  {
   "cell_type": "code",
   "execution_count": null,
   "id": "04422554",
   "metadata": {},
   "outputs": [],
   "source": []
  },
  {
   "cell_type": "code",
   "execution_count": null,
   "id": "cb0be1f8",
   "metadata": {},
   "outputs": [],
   "source": []
  },
  {
   "cell_type": "code",
   "execution_count": null,
   "id": "56507e82",
   "metadata": {},
   "outputs": [],
   "source": []
  }
 ],
 "metadata": {
  "kernelspec": {
   "display_name": "C++17",
   "language": "C++17",
   "name": "xcpp17"
  },
  "language_info": {
   "codemirror_mode": "text/x-c++src",
   "file_extension": ".cpp",
   "mimetype": "text/x-c++src",
   "name": "c++",
   "version": "17"
  }
 },
 "nbformat": 4,
 "nbformat_minor": 5
}
