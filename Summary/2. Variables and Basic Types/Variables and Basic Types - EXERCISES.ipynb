{
 "cells": [
  {
   "cell_type": "code",
   "execution_count": 1,
   "id": "3c866319",
   "metadata": {},
   "outputs": [
    {
     "name": "stdout",
     "output_type": "stream",
     "text": [
      "32\n",
      "4294967264\n",
      "32\n",
      "-32\n",
      "0\n",
      "0\n"
     ]
    }
   ],
   "source": [
    "#include <iostream>\n",
    "\n",
    "int main()\n",
    "{\n",
    "    unsigned u = 10, u2 = 42;\n",
    "    std::cout << u2 - u << std::endl;   // 42 - 10 = 32\n",
    "    std::cout << u - u2 << std::endl;   // 10 - 42 = -32 (so result will be 2^32 - 32)\n",
    "    int i = 10, i2 = 42;\n",
    "    std::cout << i2 - i << std::endl;   // 42 - 10 = 32\n",
    "    std::cout << i - i2 << std::endl;   // 10 - 42 = -32\n",
    "    std::cout << i - u << std::endl;    // 10 - 10 = 0 \n",
    "    std::cout << u - i << std::endl;    // 10 - 10 = 0\n",
    "    \n",
    "    return 0;\n",
    "}\n",
    "main();"
   ]
  },
  {
   "cell_type": "code",
   "execution_count": 17,
   "id": "1e16dc14",
   "metadata": {},
   "outputs": [
    {
     "name": "stdout",
     "output_type": "stream",
     "text": [
      "9\t7\n",
      "9\t7\n",
      "Who goes with Fergus?\n",
      "\n"
     ]
    }
   ],
   "source": [
    "#include <iostream>\n",
    "#include <string>\n",
    "\n",
    "int main()\n",
    "{\n",
    "    int month = 9, day = 7;\n",
    "    std::cout << month << '\\t' << day << std::endl;\n",
    "    // month = 09, day = 07; // 09 : invalid digit '9' in octal constant\n",
    "    std::cout << month << '\\t' << day << std::endl;\n",
    "    std::cout << \"Who goes with F\\145rgus?\\012\" << std::endl;  // \\145 = e , \\012 = (newline)\n",
    "    return 0;\n",
    "}\n",
    "main();"
   ]
  },
  {
   "cell_type": "code",
   "execution_count": 2,
   "id": "3dc2b86f",
   "metadata": {},
   "outputs": [
    {
     "name": "stdout",
     "output_type": "stream",
     "text": [
      "\t0\t\t-1450163088\n"
     ]
    }
   ],
   "source": [
    "std::string global_str;  // empty string\n",
    "int global_int;          // 0\n",
    "\n",
    "#include <iostream>\n",
    "#include <string>\n",
    "\n",
    "int main()\n",
    "{\n",
    "    int local_int;            // Undefined value\n",
    "    std::string local_str;    // // empty string\n",
    "    std::cout << global_str << '\\t' << global_int << '\\t' \n",
    "              << local_str  << '\\t' << local_int  << std::endl;\n",
    "    return 0;\n",
    "}\n",
    "main();"
   ]
  },
  {
   "cell_type": "code",
   "execution_count": 3,
   "id": "32d619dc",
   "metadata": {},
   "outputs": [
    {
     "name": "stdout",
     "output_type": "stream",
     "text": [
      "15\n"
     ]
    }
   ],
   "source": [
    "#include <iostream>\n",
    "\n",
    "int main()\n",
    "{\n",
    "    int val = 17;\n",
    "    int *p1 = &val;\n",
    "    int *p2;\n",
    "    p2 = p1;    // change the value of pointer\n",
    "    *p2 = 15;   // change the value that poiner points\n",
    "    std::cout << val << std::endl;\n",
    "    return 0;\n",
    "}\n",
    "main();"
   ]
  },
  {
   "cell_type": "code",
   "execution_count": 6,
   "id": "95b82f41",
   "metadata": {
    "tags": [
     "2.1"
    ]
   },
   "outputs": [
    {
     "name": "stdout",
     "output_type": "stream",
     "text": [
      "1764\n"
     ]
    }
   ],
   "source": [
    "#include <iostream>\n",
    "\n",
    "int main()\n",
    "{\n",
    "    int i = 42;\n",
    "    int *p1 = &i;\n",
    "    *p1 = *p1 * *p1; // 42 * 42\n",
    "    std::cout << *p1 <<std::endl;\n",
    "    return 0;\n",
    "}\n",
    "main();"
   ]
  },
  {
   "cell_type": "code",
   "execution_count": null,
   "id": "1d874bf3",
   "metadata": {},
   "outputs": [],
   "source": []
  }
 ],
 "metadata": {
  "kernelspec": {
   "display_name": "C++17",
   "language": "C++17",
   "name": "xcpp17"
  },
  "language_info": {
   "codemirror_mode": "text/x-c++src",
   "file_extension": ".cpp",
   "mimetype": "text/x-c++src",
   "name": "c++",
   "version": "17"
  }
 },
 "nbformat": 4,
 "nbformat_minor": 5
}
