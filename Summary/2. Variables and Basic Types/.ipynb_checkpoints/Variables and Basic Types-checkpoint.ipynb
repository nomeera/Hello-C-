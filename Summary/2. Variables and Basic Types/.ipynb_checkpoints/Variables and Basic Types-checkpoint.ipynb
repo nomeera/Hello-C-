{
 "cells": [
  {
   "cell_type": "markdown",
   "id": "16a412f4",
   "metadata": {},
   "source": [
    "# Variables and Basic Types"
   ]
  },
  {
   "cell_type": "raw",
   "id": "082861aa",
   "metadata": {},
   "source": [
    "temp message\n",
    "احنا نشوف كل عنوان من دول و نبحث عن  اسئلة تطبيقية عليه يعني نسرش على مثلا\n",
    "Arithmetic Types excerices\n",
    "Dealing with Types excerices"
   ]
  },
  {
   "cell_type": "markdown",
   "id": "df7357a8",
   "metadata": {},
   "source": [
    "#### Every widely used programming language provides a common set of features:  \n",
    "1. **Built-in types** such as integers, characters, and so forth.  \n",
    "2. **Variables**, which let us give names to the objects we use.  \n",
    "3. **Expressions** and statements to manipulate values of these types.  \n",
    "4. **Control structures**, such as if or while, that allow us to conditionally or repeatedly execute a set of actions.  \n",
    "5. **Functions** that let us define callable units of computation."
   ]
  },
  {
   "cell_type": "markdown",
   "id": "bea7fd4a",
   "metadata": {},
   "source": [
    "<code style=\"background:green;color:black\">In contrast, C++ is a statically typed language; type checking is done at compile time.  \n",
    "<code style=\"background:green;color:black\">C++ expressive power arises from its support for mechanisms that allow the programmer to define new data structures.  \n",
    "    \n",
    "<code style=\"background:white;color:black\">C++ Using these facilities, programmers can shape the language to their own purposes without the language designers having to anticipate the programmers’ needs. Perhaps the most important feature in C++ is the class, which lets programmers define their own types. \n",
    "    \n",
    "Types determinethe meaning of the data and operations"
   ]
  },
  {
   "cell_type": "markdown",
   "id": "01601e47",
   "metadata": {},
   "source": [
    "---\n",
    "## Arithmetic Types \n",
    "* Integral Types:(int, char, bool)\n",
    "* floating-point types"
   ]
  },
  {
   "cell_type": "markdown",
   "id": "badbf44e",
   "metadata": {},
   "source": [
    "<details>\n",
    "     <summary> <button type=\"button\">Arithmetic Types</button> </summary>\n",
    "        <img src=\"./Arithmetic Types.PNG\" alt=\"Software Development Cycle\"/>\n",
    "</details>"
   ]
  },
  {
   "cell_type": "markdown",
   "id": "775f0055",
   "metadata": {},
   "source": [
    "* Unicode is a standard for representing characters used in essentially any natural language  \n",
    "* A signed type represents negative or positive numbers (including zero)\n",
    "* unsigned type represents only values greater than or equal to zero\n",
    "* The types int, short, long, and long long are all signed."
   ]
  },
  {
   "cell_type": "markdown",
   "id": "63a6d270",
   "metadata": {},
   "source": [
    "A few rules of thumb can be useful in deciding which type to use:\n",
    "* Use an unsigned type when you know that the values cannot be negative.\n",
    "* Use int for integer arithmetic. short is usually too small and, in practice, long often has the same size as int. If your data values are larger than the minimum guaranteed size of an int, then use long long.\n",
    "* Do not use plain char or bool in arithmetic expressions. Use them only to hold characters or truth values. Computations using char are especially problematic because char is signed on some machines and unsigned on others. If you need a tiny integer, explicitly specify either signed char or unsigned char.\n",
    "* Use double for floating-point computations; float usually does not have enough precision, and the cost of double-precision calculations versus single-precision is negligible. In fact, on some machines, double-precision operations are faster than single. The precision offered by long double usually is unnecessary and often entails considerable run-time cost"
   ]
  },
  {
   "cell_type": "markdown",
   "id": "4f35d7f5",
   "metadata": {},
   "source": [
    "## Type Conversions\n",
    "Many types support is the ability to convert objects of the given type to other, related types."
   ]
  },
  {
   "cell_type": "code",
   "execution_count": null,
   "id": "baf14885",
   "metadata": {
    "scrolled": true
   },
   "outputs": [],
   "source": [
    "/*\n",
    "Type conversions happen automatically when we use an object of one type \n",
    "where an object of another type is expected\n",
    "*/\n",
    "\n",
    "bool b = 42;                // b is true\n",
    "int i = b;                  // i has value 1\n",
    "float z = 3.14;\n",
    "i = z;                      // i has value 3\n",
    "double pi = 3.14;           // pi has value 3.0\n",
    "unsigned char c = -1;       // assuming 8-bit chars, c has value 255\n",
    "signed char c2 = 256;       // assuming 8-bit chars, the value of c2 is undefined"
   ]
  },
  {
   "cell_type": "markdown",
   "id": "398e8f16",
   "metadata": {},
   "source": [
    "<details>\n",
    "     <summary> <button type=\"button\">ADVICE</button> </summary>\n",
    "        <img src=\"./ADVICE: AVOID UNDEFINED AND IMPLEMENTATION-DEFINED BEHAVIOR.jpeg\" alt=\"Software Development Cycle\"/>\n",
    "</details>\n"
   ]
  },
  {
   "cell_type": "code",
   "execution_count": null,
   "id": "815df8ea",
   "metadata": {
    "scrolled": true
   },
   "outputs": [],
   "source": [
    "/*\n",
    "if we use both unsigned and int values in an arithmetic expression, the\n",
    "int value ordinarily is converted to unsigned. Converting an int to unsigned\n",
    "executes the same way as if we assigned the int to an unsigned\n",
    "*/\n",
    "#include <iostream>\n",
    "int main()\n",
    "{\n",
    "    unsigned u = 10;  // The type unsigned int may be abbreviated as unsigned\n",
    "    int i = -42;\n",
    "    std::cout << i + i << std::endl; // prints -84\n",
    "    std::cout << u + i << std::endl; // if 32-bit ints, prints 4294967264 (converted to unsigned) (2^32 - 32)\n",
    "    return 0;\n",
    "}\n",
    "main();\n",
    "// CAUTION: DON’T MIX SIGNED AND UNSIGNED TYPES"
   ]
  },
  {
   "cell_type": "markdown",
   "id": "62ccabde",
   "metadata": {},
   "source": [
    "---\n",
    "### Literals\n",
    "A value, such as 42, is known as a literal because its value self-evident"
   ]
  },
  {
   "cell_type": "markdown",
   "id": "40e8216a",
   "metadata": {},
   "source": [
    "#### Integer and Floating-Point Literals\n",
    "We can write an integer literal using decimal, octal, or hexadecimal notation\n",
    "For example, we can write the value 20 in any of the following three ways:  \n",
    "20   decimal  \n",
    "024  octal  \n",
    "0x14 hexadecimal\n",
    "* -42, the minus sign is not part of the literal. The minus sign is an operator that negates the value of its (literal) operand.\n",
    "* Floating-point literals include either a decimal point or an exponent specified using scientific notation.\n",
    "3.14159 | 3.14159E0 | 0. | 0e0 | .001\n",
    "\n",
    "* ’a’ // character literal\n",
    "* \"Hello World!\" // string literal  //array of constant chars\n",
    "* The compiler appends a null character (’\\0’) to every string literal."
   ]
  },
  {
   "cell_type": "markdown",
   "id": "2f8f9718",
   "metadata": {},
   "source": [
    "### Escape Sequences\n",
    "Some characters, such as backspace or control characters, have no visible image.\n",
    "Such characters are nonprintable."
   ]
  },
  {
   "cell_type": "raw",
   "id": "67866809",
   "metadata": {},
   "source": [
    "newline              \\n  \n",
    "horizontal tab       \\t  \n",
    "alert (bell)         \\a  \n",
    "vertical tab         \\v  \n",
    "backspace            \\b  \n",
    "double quote         \\\"  \n",
    "backslash            \\\\  \n",
    "question mark        \\?  \n",
    "single quote         \\’  \n",
    "carriage return      \\r  \n",
    "formfeed             \\f\n",
    "(bell)               \\7\n",
    "(newline)            \\12\n",
    "(blank)              \\40\n",
    "(null)               \\0 \n",
    "(’M’)                \\115\n",
    "(’M’)                \\x4d"
   ]
  },
  {
   "cell_type": "code",
   "execution_count": null,
   "id": "15332e19",
   "metadata": {
    "scrolled": true
   },
   "outputs": [],
   "source": [
    "std::cout << ’\\n’; // prints a newline\n",
    "std::cout << \"\\tHi!\\n\"; // prints a tab followd by \"Hi!\" and a newline\n",
    "std::cout << \"Hi \\x4dO\\115!\\n\"; // prints Hi MOM! followed by a newline\n",
    "std::cout << ’\\115’ << ’\\n’; // prints M followed by a newline"
   ]
  },
  {
   "cell_type": "markdown",
   "id": "b8c7c890",
   "metadata": {},
   "source": [
    "### Specifying the Type of a Literal\n",
    "We can override the default type of an integer, floating- point, or character literal\n",
    "by supplying a suffix or prefix"
   ]
  },
  {
   "cell_type": "markdown",
   "id": "f168a852",
   "metadata": {},
   "source": [
    "<details>\n",
    "     <summary> <button type=\"button\">Specifying the Type of a Literal</button> </summary>\n",
    "        <img src=\"./Specifying the Type of a Literal.PNG\" alt=\"Software Development Cycle\"/>\n",
    "</details>\n"
   ]
  },
  {
   "cell_type": "raw",
   "id": "139244db",
   "metadata": {},
   "source": [
    "L’a’         // wide character literal, type is wchar_t\n",
    "u8\"hi!\"      // utf-8 string literal (utf-8 encodes a Unicode character in 8 bits)\n",
    "42ULL        // unsigned integer literal, type is unsigned long long\n",
    "1E-3F        // single-precision floating-point literal, type is float\n",
    "3.14159L     // extended-precision floating-point literal, type is long double"
   ]
  },
  {
   "cell_type": "markdown",
   "id": "48bbe569",
   "metadata": {},
   "source": [
    "### Boolean Literals\n",
    "The words true and false are literals of type bool:"
   ]
  },
  {
   "cell_type": "code",
   "execution_count": null,
   "id": "6e0896af",
   "metadata": {
    "scrolled": true
   },
   "outputs": [],
   "source": [
    "bool test = false;"
   ]
  },
  {
   "cell_type": "markdown",
   "id": "ef43212b",
   "metadata": {},
   "source": [
    "---\n",
    "---"
   ]
  },
  {
   "cell_type": "markdown",
   "id": "ccac919d",
   "metadata": {},
   "source": [
    "## Variables\n",
    "A variable provides us with named storage that our programs can manipulate.\n",
    "* C++ programmers tend to refer to variables as “variables” or “objects” interchangeably.\n",
    "* object is a region of memory that can contain data and has a type"
   ]
  },
  {
   "cell_type": "markdown",
   "id": "6b4788ae",
   "metadata": {},
   "source": [
    "### Initializers\n",
    "An object that is initialized gets the specified value at the moment it is created"
   ]
  },
  {
   "cell_type": "markdown",
   "id": "f246aeae",
   "metadata": {},
   "source": [
    "* Initialization is not assignment. Assignment obliterates an object’s current value and replaces that value with a new one.\n",
    "* When we define a variable without an initializer, the variable is default initialized.\n",
    "* We recommend initializing every object of built-in type"
   ]
  },
  {
   "cell_type": "code",
   "execution_count": null,
   "id": "0426dc16",
   "metadata": {
    "scrolled": true
   },
   "outputs": [],
   "source": [
    "// List Initialization\n",
    "int object1 =  0;\n",
    "int object2 = {0};\n",
    "int object3{0};\n",
    "int object4(0);"
   ]
  },
  {
   "cell_type": "markdown",
   "id": "788663f9",
   "metadata": {},
   "source": [
    "### Variable Declarations and Definitions\n",
    "C++ supports what is commonly known as separate compilation. Separate compilation lets us split our programs into several files, each of which can be compiled independently.  \n",
    "ex: consider std::cout and std::cin. These are objects defined somewhere in the standard library, yet our\n",
    "programs can use these objects\n",
    "* To support separate compilation, C++ distinguishes between declarations and definitions."
   ]
  },
  {
   "cell_type": "markdown",
   "id": "bd2d7d83",
   "metadata": {},
   "source": [
    "A declaration makes a name known to the program. A file that wants\n",
    "to use a name defined elsewhere includes a declaration for that name. A definition\n",
    "creates the associated entity.\n",
    "* **A variable declaration**: specifies the type and name of a variable\n",
    "* **A variable definition**:  specifies the type and name of a variable(declaration) +  allocates storage + an initial value"
   ]
  },
  {
   "cell_type": "code",
   "execution_count": null,
   "id": "1b780123",
   "metadata": {
    "scrolled": true
   },
   "outputs": [],
   "source": [
    "extern int i; // Declaration \n",
    "int j;        // Declaration + Definition\n",
    "\n",
    "//Variables must be defined exactly once but can be declared many times\n",
    "/*To use the same variable\n",
    "in multiple files, we must define that variable in one—and only one—file. Other\n",
    "files that use that variable must declare—but not define—that variable.*/"
   ]
  },
  {
   "cell_type": "markdown",
   "id": "1f9c0d15",
   "metadata": {},
   "source": [
    "### Identifiers\n",
    "The language reserves a set of names, listed for its own use. These names may not be used as identifiers"
   ]
  },
  {
   "cell_type": "markdown",
   "id": "f555e393",
   "metadata": {},
   "source": [
    "<details>\n",
    "     <summary> <button type=\"button\">C++ Keywords</button> </summary>\n",
    "        <img src=\"./C++ Keywords.PNG\" alt=\"Software Development Cycle\"/>\n",
    "</details>\n"
   ]
  },
  {
   "cell_type": "markdown",
   "id": "612eab97",
   "metadata": {},
   "source": [
    "### Scope of a Name\n",
    "At any particular point in a program, each name that is in use refers to a specific\n",
    "entity—a variable, function, type, and so on.\n",
    "* **A scope** is a part of the program in which a name has a particular meaning. Most scopes in C++ are delimited by curly braces\n",
    "* Global scope\n",
    "* Block scope."
   ]
  },
  {
   "cell_type": "raw",
   "id": "c7662104",
   "metadata": {},
   "source": [
    "ADVICE: DEFINE VARIABLES WHERE YOU FIRST USE THEM\n",
    "-------------------------------------------------\n",
    "It is usually a good idea to define an object near the point at which the object is first\n",
    "used. Doing so improves readability by making it easy to find the definition of the\n",
    "variable. More importantly, it is often easier to give the variable a useful initial value\n",
    "when the variable is defined close to where it is first used"
   ]
  },
  {
   "cell_type": "code",
   "execution_count": null,
   "id": "ffa3e5ac",
   "metadata": {
    "scrolled": true
   },
   "outputs": [],
   "source": [
    "int reused = 42;  // reused has global scope\n",
    "#include <iostream>\n",
    "// Program for illustration purposes only: It is bad style for a function\n",
    "// to use a global variable and also define a local variable with the same name\n",
    "\n",
    "int main()\n",
    "{\n",
    "    int unique = 0; // unique has block scope\n",
    "    // output #1: uses global reused; prints 42 0\n",
    "    std::cout << reused << \" \" << unique << std::endl;\n",
    "    int reused = 0; // new, local object named reused hides global reused\n",
    "    // output #2: uses local reused; prints 0 0\n",
    "    std::cout << reused << \" \" << unique << std::endl;\n",
    "    // output #3: explicitly requests the global reused; prints 42 0\n",
    "    std::cout << ::reused << \" \" << unique << std::endl;\n",
    "    return 0;\n",
    "}\n",
    "main();"
   ]
  },
  {
   "cell_type": "markdown",
   "id": "daa4fad8",
   "metadata": {},
   "source": [
    "---\n",
    "---"
   ]
  },
  {
   "cell_type": "markdown",
   "id": "5954a9e0",
   "metadata": {},
   "source": [
    "## Compound Types\n",
    "A compound type is a type that is defined in terms of another type. C++ has\n",
    "several compound types, two of which—references and pointers"
   ]
  },
  {
   "cell_type": "markdown",
   "id": "2e57a403",
   "metadata": {},
   "source": [
    "## **References**\n",
    "A reference defines an alternative name for an object  \n",
    "When we define a reference, instead of copying the initializer’s value, we bind the reference to its initializer"
   ]
  },
  {
   "cell_type": "code",
   "execution_count": null,
   "id": "4cda38d7",
   "metadata": {
    "scrolled": true
   },
   "outputs": [],
   "source": [
    "int val = 1024;\n",
    "int &refval1 = val; //refVal refers to (is another name for) val\n",
    "int &refval2        // error: a reference must be initialized"
   ]
  },
  {
   "cell_type": "markdown",
   "id": "aa03be00",
   "metadata": {},
   "source": [
    "#### A Reference Is an Alias\n",
    "A reference is not an object. Instead, a reference is just another name for\n",
    "an already existing object.  \n",
    "All operations on that reference are actually\n",
    "operations on the object."
   ]
  },
  {
   "cell_type": "code",
   "execution_count": null,
   "id": "bdec9fdb",
   "metadata": {
    "scrolled": true
   },
   "outputs": [],
   "source": [
    "refval1 = 2; // assigns 2 to the object to which refVal refers | val = 2\n",
    "int val2 = refval1; // same as val2 = val\n",
    "// When we assign to a reference, we are assigning to the object to which the reference is bound.\n",
    "// When we fetch the value of a reference, we are really fetching the value of the object.\n",
    "int &refval3 = refval1; \n",
    "// when we use a reference as an initializer, we are really using the object to which the reference is bound."
   ]
  },
  {
   "cell_type": "code",
   "execution_count": null,
   "id": "652614c3",
   "metadata": {
    "scrolled": true
   },
   "outputs": [],
   "source": [
    "//type of a reference and the object to which the reference refers must match exactly\n",
    "int &refVal4 = 10; // error: initializer must be an object\n",
    "double dval = 3.14;\n",
    "int &refVal5 = dval; // error: initializer must be an int object"
   ]
  },
  {
   "cell_type": "markdown",
   "id": "b3c2a4dc",
   "metadata": {},
   "source": [
    "---"
   ]
  },
  {
   "cell_type": "markdown",
   "id": "081ec312",
   "metadata": {},
   "source": [
    "## **Pointers**\n",
    "* A pointeris a compound type that “points to” another type.  \n",
    "* Like references, pointers are used for indirect access to other objects.  \n",
    "* Unlike a reference, a pointer is an object in its own right.\n",
    "* Pointers can be assigned and copied; a single pointer can point to several different objects over its lifetime.\n",
    "* Unlike a reference, a pointer need not be initialized at the time it is defined."
   ]
  },
  {
   "cell_type": "code",
   "execution_count": null,
   "id": "e3c04c1b",
   "metadata": {
    "scrolled": true
   },
   "outputs": [],
   "source": [
    "int *ip1, *ip2; // both ip1 and ip2 are pointers to int\n",
    "double dp, *dp2; // dp2 is a pointer to double; dp is a double\n",
    "int* p1, p2; // p1 is a pointer to int; p2 is an int  "
   ]
  },
  {
   "cell_type": "markdown",
   "id": "941f2a40",
   "metadata": {},
   "source": [
    "#### Taking the Address of an Object\n",
    "A pointer holds the address of another object. We get the address of an object by\n",
    "usin the address-of operator (the & operator)"
   ]
  },
  {
   "cell_type": "code",
   "execution_count": null,
   "id": "97572b52",
   "metadata": {
    "scrolled": true
   },
   "outputs": [],
   "source": [
    "int val = 42;\n",
    "int *p = &val;  //p holds the address of val; p is a pointer to val"
   ]
  },
  {
   "cell_type": "code",
   "execution_count": null,
   "id": "a2ad04f7",
   "metadata": {
    "scrolled": true
   },
   "outputs": [],
   "source": [
    "//the types of the pointer and the object to which it points must match:\n",
    "double dval;\n",
    "double *pd = &dval;\n",
    "double *pd2 = pd;\n",
    "int *pi = pd; // error: types of pi and pd differ"
   ]
  },
  {
   "cell_type": "markdown",
   "id": "c60c15a0",
   "metadata": {},
   "source": [
    "### Pointer Value\n",
    "1. It can point to an object.\n",
    "2. It can point to the location just immediately past the end of an object.\n",
    "3. It can be a null pointer, indicating that it is not bound to any object."
   ]
  },
  {
   "cell_type": "markdown",
   "id": "f2943542",
   "metadata": {},
   "source": [
    "### Using a Pointer to Access an Object\n",
    "Using dereference operator (the * operator)."
   ]
  },
  {
   "cell_type": "code",
   "execution_count": null,
   "id": "30a46063",
   "metadata": {
    "scrolled": true
   },
   "outputs": [],
   "source": [
    "int val = 42;\n",
    "int *p = &val;\n",
    "std::cout < *p; // print 42\n",
    "int *pp;\n",
    "pp = p; // pp & p adress the same object.\n",
    "\n",
    "// When we assign to *p, we are assigning to the object to which p points.\n",
    "*p = 0;\n",
    "std::cout << *p; // print 0\n",
    "int &r = *p; // refrance r binded to object that pointer point"
   ]
  },
  {
   "cell_type": "markdown",
   "id": "54b4e217",
   "metadata": {},
   "source": [
    "### Null Pointers\n",
    "A null pointer does not point to any object."
   ]
  },
  {
   "cell_type": "code",
   "execution_count": null,
   "id": "c313bf0a",
   "metadata": {
    "scrolled": true
   },
   "outputs": [],
   "source": [
    "// There are several ways to obtain a null pointer:\n",
    "int *p1 = nullptr;\n",
    "int *p2 = 0;\n",
    "int *p3 = NULL; // a preprocessor variable named NULL\n",
    "\n",
    "/*\n",
    "    the preprocessor is a program that runs before the\n",
    "    compiler. Preprocessor variables are managed by the preprocessor, and are not\n",
    "    part of the std namespace. As a result, we refer to them directly without the\n",
    "    std:: prefix.\n",
    "    When we use a preprocessor variable, the preprocessor automatically replaces\n",
    "    the variable by its value.\n",
    "*/"
   ]
  },
  {
   "cell_type": "markdown",
   "id": "68d62962",
   "metadata": {},
   "source": [
    "<details>\n",
    "     <summary> <button type=\"button\">ADVICE</button> </summary>\n",
    "        <img src=\"./ADVICE: INITIALIZE ALL POINTERS.jpeg\" alt=\"Software Development Cycle\"/>\n",
    "</details> \n"
   ]
  },
  {
   "cell_type": "markdown",
   "id": "ddb743ed",
   "metadata": {},
   "source": [
    "---\n",
    "### void* Pointers\n",
    "The type void* is a special pointer type that can hold the address of any object.\n",
    "Like any other pointer, a void* pointer holds an address, but the type of the object\n",
    "at that address is unknown"
   ]
  },
  {
   "cell_type": "code",
   "execution_count": null,
   "id": "1513b3fe",
   "metadata": {
    "scrolled": true
   },
   "outputs": [],
   "source": [
    "double obj = 3.14, *pd = &obj;\n",
    "// ok: void* can hold the address value of any data pointer type\n",
    "void *pv = &obj;\n",
    "pv = pd;\n",
    "\n",
    "// There are only a limited number of things we can do with a void* pointer:\n",
    "/*\n",
    "1. We can compare it to another pointer.\n",
    "2. we can pass it to or return it from a function.\n",
    "3. we can assign it to another void* pointer.\n",
    "*/\n",
    "// We cannot use a void* to operate on the object it addresses—we don’t know that object’s type, and the type determines what operations we can perform on the object.\n",
    "// Generally, we use a void* pointer to deal with memory as memory"
   ]
  },
  {
   "cell_type": "markdown",
   "id": "f12d1708",
   "metadata": {},
   "source": [
    "### Pointers to Pointers\n",
    "A pointer is an object in memory, so like any object it has an address. Therefore, we can store\n",
    "the address of a pointer in another pointer.\n"
   ]
  },
  {
   "cell_type": "markdown",
   "id": "977a0dd9",
   "metadata": {},
   "source": [
    "<img src=\"./pointer.jpeg\" alt=\"Software Development Cycle\"/>"
   ]
  },
  {
   "cell_type": "code",
   "execution_count": null,
   "id": "9a639fd3",
   "metadata": {
    "scrolled": true
   },
   "outputs": [],
   "source": [
    "int ival  = 1024;\n",
    "int *pi   = &ival;\n",
    "int **ppi = &pi;\n",
    "\n",
    "std::cout << ival << std::endl;\n",
    "std::cout << *pi << std::endl;\n",
    "std::cout << **ppi << std::endl;"
   ]
  },
  {
   "cell_type": "markdown",
   "id": "04e9310d",
   "metadata": {},
   "source": [
    "### References to Pointers"
   ]
  },
  {
   "cell_type": "code",
   "execution_count": null,
   "id": "5b12ac53",
   "metadata": {
    "scrolled": true
   },
   "outputs": [],
   "source": [
    "int i = 42;\n",
    "int j = 23;\n",
    "int *p = &j; // p is a pointer to int\n",
    "int &r = *p; // r bind to i (*p derefrance pointer = object)\n",
    "int *&r = p; // r is a reference to the pointer p\n",
    "\n",
    "r = &i;  // r refers to a pointer; assigning &i to r makes p point to i\n",
    "*r = 0; // the object to which p points; changes to 0 >>> i = 0\n",
    "\n",
    "// The easiest way to understand the type of r is to read the definition right to left."
   ]
  },
  {
   "cell_type": "markdown",
   "id": "4410efb0",
   "metadata": {},
   "source": [
    "---"
   ]
  },
  {
   "cell_type": "markdown",
   "id": "67ff2c6e",
   "metadata": {},
   "source": [
    "## const Qualifier\n",
    "Sometimes we want to define a variable whose value we know cannot be changed."
   ]
  },
  {
   "cell_type": "code",
   "execution_count": null,
   "id": "cf222fa9",
   "metadata": {
    "scrolled": true
   },
   "outputs": [],
   "source": [
    "const int bufSize = 512;  // Any attempt to assign to bufSize is an error"
   ]
  },
  {
   "cell_type": "code",
   "execution_count": null,
   "id": "60d6840d",
   "metadata": {
    "scrolled": true
   },
   "outputs": [],
   "source": [
    "const int i = get_size(); // ok : initialized at run time\n",
    "const int j = 42; // ok : initialized at compile time\n",
    "const int k; // error : k is uninitialized const"
   ]
  },
  {
   "cell_type": "markdown",
   "id": "9128f7a6",
   "metadata": {},
   "source": [
    "#### By Default, const Objects Are Local to a File\n",
    "To define a single instance of a const variable, we use the keyword extern\n",
    "on both its definition and declaration(s)"
   ]
  },
  {
   "cell_type": "code",
   "execution_count": null,
   "id": "d7970d1e",
   "metadata": {
    "scrolled": true
   },
   "outputs": [],
   "source": [
    "// file_1.cc defines and initializes a const that is accessible to other files\n",
    "extern const int bufSize = fcn();"
   ]
  },
  {
   "cell_type": "code",
   "execution_count": null,
   "id": "cf02c530",
   "metadata": {
    "scrolled": true
   },
   "outputs": [],
   "source": [
    "// file_1.h\n",
    "extern const int bufSize; // same bufSize as defined in file_1.cc"
   ]
  },
  {
   "cell_type": "markdown",
   "id": "ac127b0a",
   "metadata": {},
   "source": [
    "#### References to const\n",
    "Unlike an ordinary reference, a reference to const cannot be used to change\n",
    "the object to which the reference is bound"
   ]
  },
  {
   "cell_type": "code",
   "execution_count": null,
   "id": "964e77e8",
   "metadata": {
    "scrolled": true
   },
   "outputs": [],
   "source": [
    "const int ci = 1024;\n",
    "const int &r1 = ci; // ok: both reference and underlying object are const\n",
    "r1 = 42; // error: r1 is a reference to const\n",
    "int &r2 = ci; // error: nonconst reference to a const object\n",
    "\n",
    "// TERMINOLOGY: CONST REFERENCE IS A REFERENCE TO CONST"
   ]
  },
  {
   "cell_type": "markdown",
   "id": "7bb02246",
   "metadata": {},
   "source": [
    "#### Initialization and References to const\n",
    "we can bind a reference to const to a nonconst object, a literal, or a more general expression"
   ]
  },
  {
   "cell_type": "code",
   "execution_count": null,
   "id": "0839d588",
   "metadata": {
    "scrolled": true
   },
   "outputs": [],
   "source": [
    "int i = 42;\n",
    "const int &r1 = i;      // we can bind a const int& to a plain int object\n",
    "const int &r2 = 42;     // ok: r1 is a reference to const\n",
    "const int &r3 = r1 * 2; // ok: r3 is a reference to const\n",
    "int &r4 = r * 2; // error: r4 is a plain, nonconst reference"
   ]
  },
  {
   "cell_type": "markdown",
   "id": "3da6629b",
   "metadata": {},
   "source": [
    "we can bind a reference to const to a diffrent object, a literal, but we can not change object value"
   ]
  },
  {
   "cell_type": "code",
   "execution_count": null,
   "id": "5dbc1ce4",
   "metadata": {
    "scrolled": true
   },
   "outputs": [],
   "source": [
    "double dval = 3.14;\n",
    "const int &ri = dval;\n",
    "ri = 7 ; // error"
   ]
  },
  {
   "cell_type": "code",
   "execution_count": null,
   "id": "2bb63758",
   "metadata": {
    "scrolled": true
   },
   "outputs": [],
   "source": [
    "// To ensure that the object to which ri is bound is an int, the compiler transforms this code into something like\n",
    "\n",
    "const int temp = dval; // create a temporary const int from the double\n",
    "const int &ri = temp;  // bind ri to that temporary"
   ]
  },
  {
   "cell_type": "markdown",
   "id": "44975aab",
   "metadata": {},
   "source": [
    "#### Pointers and const\n",
    "Like a reference to const, a pointer to const may not be\n",
    "used to change the object to which the pointer points. We may store the address of\n",
    "a const object only in a pointer to const"
   ]
  },
  {
   "cell_type": "code",
   "execution_count": null,
   "id": "240910cc",
   "metadata": {
    "scrolled": true
   },
   "outputs": [],
   "source": [
    "const double pi = 3.14;\n",
    "double *ptr = &pi;  // error must be constant pointer\n",
    "const *cptr = &pi; // \n",
    "*cptr = 42 // error : cannot assing to *cptr"
   ]
  },
  {
   "cell_type": "markdown",
   "id": "5439f93f",
   "metadata": {},
   "source": [
    "* we can use a pointer to const to point to a nonconst object"
   ]
  },
  {
   "cell_type": "code",
   "execution_count": null,
   "id": "93cd2023",
   "metadata": {
    "scrolled": true
   },
   "outputs": [],
   "source": [
    "double dval = 3.14;\n",
    "const double *cptr = &dval;   // ok: but can’t change dval through cptr"
   ]
  },
  {
   "cell_type": "markdown",
   "id": "0907cdba",
   "metadata": {},
   "source": [
    "#### const Pointers\n",
    "we can have a pointer that is itself const  \n",
    "Once initialized, its value (i.e., the address that it holds) may not be changed | mean const pointer always point to specific object"
   ]
  },
  {
   "cell_type": "code",
   "execution_count": null,
   "id": "1c06ac3d",
   "metadata": {
    "scrolled": true
   },
   "outputs": [],
   "source": [
    "int errNumb = 0;\n",
    "int *const curErr = &errNumb;  // curErr will always point to errNumb\n",
    "const double pi = 3.14159;\n",
    "const double *const pip = &pi;\n",
    "\n",
    "// we can use const pointer to change errNum (nonConst object) but we cannot change pi (const object)"
   ]
  },
  {
   "cell_type": "markdown",
   "id": "5ac1e86b",
   "metadata": {},
   "source": [
    "---\n",
    "### Top-Level const"
   ]
  },
  {
   "cell_type": "markdown",
   "id": "22c92895",
   "metadata": {},
   "source": [
    "**Top-Level Const** : pointer itself is a const (any object itself is const).  \n",
    "**low-level const** : pointer point to a const object."
   ]
  },
  {
   "cell_type": "code",
   "execution_count": null,
   "id": "dd6dbadc",
   "metadata": {
    "scrolled": true
   },
   "outputs": [],
   "source": [
    "int i = 0;\n",
    "int *const p1 = &i;         // we can’t change the value of p1; const is top-level\n",
    "const int ci = 42;          // we cannot change ci; const is top-level\n",
    "const int *p2 = &ci;        // we can change p2; const is low-level\n",
    "const int *const p3 = p2;   // Right-most const is top-level, left-most is not\n",
    "const int &r = ci;          // const in reference types is always low-level"
   ]
  },
  {
   "cell_type": "code",
   "execution_count": null,
   "id": "786750ed",
   "metadata": {
    "scrolled": true
   },
   "outputs": [],
   "source": [
    "// When we copy an object, top-level consts are ignored\n",
    "\n",
    "i = ci; // ok: copying the value of ci; top-level const in ci is ignored\n",
    "p2 = p3; // ok: pointed-to type matches; top-level const in p3 is ignored"
   ]
  },
  {
   "cell_type": "code",
   "execution_count": null,
   "id": "4334ed32",
   "metadata": {
    "scrolled": true
   },
   "outputs": [],
   "source": [
    "/*\n",
    "On the other hand, low-level const is never ignored. When we copy an object,\n",
    "both objects must have the same low-level const qualification\n",
    "*/\n",
    "\n",
    "int *p = p3;   // error: p3 has a low-level const but p doesn’t\n",
    "p2 = p3;       // ok: p2 has the same low-level const qualification as p3\n",
    "p2 = &i; // ok: we can convert int* to const int*\n",
    "int &r = ci; // error: can’t bind an ordinary int& to a const int object\n",
    "const int &r2 = i; // ok: can bind const int& to plain int"
   ]
  },
  {
   "cell_type": "markdown",
   "id": "72191b9f",
   "metadata": {},
   "source": [
    "***\n",
    "### constexpr and Constant Expressions\n",
    "A constant expression is an expression whose value cannot change and that can\n",
    "be evaluated at compile time."
   ]
  },
  {
   "cell_type": "code",
   "execution_count": null,
   "id": "6a291b88",
   "metadata": {
    "scrolled": true
   },
   "outputs": [],
   "source": [
    "const int max_files = 20;            // max_files is a constant expression\n",
    "const int limit = max_files + 1;     // limit is a constant expression\n",
    "int staff_size = 27;                 // staff_size is not a constant expression\n",
    "const int sz = get_size();           // sz is not a constant expression  (value of its initializer is not known until run time)"
   ]
  },
  {
   "cell_type": "markdown",
   "id": "727aaa13",
   "metadata": {},
   "source": [
    "#### **constexpr Variables**\n",
    "In a large system, it can be difficult to determine (for certain) that an initializer is a\n",
    "constant expression. We might define a const variable with an initializer that we\n",
    "think is a constant expression. However, when we use that variable in a context\n",
    "that requires a constant expression we may discover that the initializer was not a\n",
    "constant expression. In general, the definition of an object and its use in such a\n",
    "context can be widely separated.  \n",
    "<code style=\"background:green;color:black\">we can ask the compiler to verify that a variable is a constant expression by declaring the variable in a constexpr declaration"
   ]
  },
  {
   "cell_type": "code",
   "execution_count": null,
   "id": "693595dc",
   "metadata": {
    "scrolled": true
   },
   "outputs": [],
   "source": [
    "constexpr int mf = 20; // 20 is a constant expression\n",
    "constexpr int limit = mf + 1; // mf + 1 is a constant expression\n",
    "constexpr int sz = size(); // ok only if size is a constexpr function"
   ]
  },
  {
   "cell_type": "markdown",
   "id": "438f2938",
   "metadata": {},
   "source": [
    "<details>\n",
    "     <summary> <button type=\"button\">Literal Types with constexpr</button> </summary>\n",
    "        <img src=\"./Literal Types.jpeg\" alt=\"Software Development Cycle\"/>\n",
    "</details> "
   ]
  },
  {
   "cell_type": "markdown",
   "id": "98cefcaf",
   "metadata": {},
   "source": [
    "#### Pointers and constexpr\n",
    "the constexpr specifier applies to the pointer, not the type to which the\n",
    "pointer points:"
   ]
  },
  {
   "cell_type": "code",
   "execution_count": null,
   "id": "7a647148",
   "metadata": {
    "scrolled": true
   },
   "outputs": [],
   "source": [
    "const int *p = nullptr;       // p is a pointer to a const int.\n",
    "constexpr int *q = nullptr;   // q is a const pointer to int.  (constexpr imposes a top-level const)"
   ]
  },
  {
   "cell_type": "code",
   "execution_count": null,
   "id": "643d1bff",
   "metadata": {
    "scrolled": true
   },
   "outputs": [],
   "source": [
    "// Like any other constant pointer, a constexpr pointer may point to a const or a nonconst type.\n",
    "constexpr int *np = nullptr;   // np is a constant pointer to int that is null\n",
    "int j = 0;\n",
    "constexpr int i = 42;    // const int\n",
    "constexpr const int *p1 = &i;    // p1 is a const pointer to the const int i\n",
    "constexpr int *p2 = &j;          // p2 is a const poniter to the int."
   ]
  },
  {
   "cell_type": "markdown",
   "id": "aa435137",
   "metadata": {},
   "source": [
    "---\n",
    "## Dealing with Types\n",
    "As our programs get more complicated, we’ll see that the types we use also get\n",
    "more complicated  \n",
    "So,"
   ]
  },
  {
   "cell_type": "markdown",
   "id": "bf92ae6c",
   "metadata": {},
   "source": [
    "### Type Aliases\n",
    "A type alias is a name that is a synonym for another type. Type aliases let us simplify complicated type definitions, making those types easier to use.  \n",
    "We can define a type alias in one of two ways:"
   ]
  },
  {
   "cell_type": "code",
   "execution_count": null,
   "id": "cf708961",
   "metadata": {
    "scrolled": true
   },
   "outputs": [],
   "source": [
    "typedef double nomeer1;   // nomeer is a synonym for double\n",
    "nomeer1 dval1 = 5.54;\n",
    "typedef double *pnomeer1;  // pnomeer is a synonym for double*\n",
    "pnomeer1 p1 = &dval1;        // p is double*"
   ]
  },
  {
   "cell_type": "code",
   "execution_count": null,
   "id": "715b1600",
   "metadata": {
    "scrolled": true
   },
   "outputs": [],
   "source": [
    "// alias for the type\n",
    "using nomeer2 = double;\n",
    "nomeer2 dval = 5.54;"
   ]
  },
  {
   "cell_type": "markdown",
   "id": "df93d963",
   "metadata": {},
   "source": [
    "### Pointers, const, and Type Aliases\n",
    "Declarations that use type aliases that represent compound types and const can yield surprising results."
   ]
  },
  {
   "cell_type": "code",
   "execution_count": null,
   "id": "fb88580d",
   "metadata": {
    "scrolled": true
   },
   "outputs": [],
   "source": [
    "typedef char *pstring;   // pstring is pointer to char\n",
    "const pstring cstr = 0;  // const poniter to char  (wow ^=^)\n",
    "const pstring *ps;       // ps is a pointer to a constant pointer to char"
   ]
  },
  {
   "cell_type": "markdown",
   "id": "d49390aa",
   "metadata": {},
   "source": [
    "---\n",
    "### The auto Type Specifier\n",
    "When we write a program, it can be surprisingly difficult—and sometimes even impossible—to determine the type of an expression\n",
    "* we can let the compiler figure out the type for us by using the auto type specifier."
   ]
  },
  {
   "cell_type": "code",
   "execution_count": null,
   "id": "c6e1eac2",
   "metadata": {
    "scrolled": true
   },
   "outputs": [],
   "source": [
    "auto i = 0, *p = &i;     // i is int, p is pointer to int\n",
    "auto sz = 0, pi = 3.14;  // error: inconsistent types for sz and pi"
   ]
  },
  {
   "cell_type": "markdown",
   "id": "93e33ac6",
   "metadata": {},
   "source": [
    "### Compound Types, const, and auto\n",
    "The type that the compiler infers for auto is not always exactly the same as the\n",
    "initializer’s type. Instead, the compiler adjusts the type to conform to normal initialization rules."
   ]
  },
  {
   "cell_type": "code",
   "execution_count": null,
   "id": "b8550452",
   "metadata": {
    "scrolled": true
   },
   "outputs": [],
   "source": [
    "int i = 0, &r = i;\n",
    "auto a = r;       // a is int not refrance (r is alias for i)\n",
    "\n",
    "// auto ordinarily ignores top-level consts \n",
    "const int ci = i, &cr = ci;\n",
    "auto b = ci;   // b is an int (top-level const in ci is dropped)\n",
    "auto c = cr;   // c is an int (cr is an alias for ci whose const is top-level)\n",
    "auto d = &i;   // d is an int* (& of an int object is int*) \n",
    "auto e = &ci;  // e is const int* (& of a const object is low-level const)\n",
    "\n",
    "// If we want the deduced type to have a top-level const, we must say so explicitly\n",
    "const auto f = ci; // f is const int\n",
    "\n",
    "// We can also specify that we want a reference to the auto-deduced type\n",
    "auto &g = ci;         // g is refrance to const int\n",
    "auto &h = 42;         // error: we can't binf a plain refrance to a literal\n",
    "const auto &j = 42;   // ok : we can bind a const refrance to a literal"
   ]
  },
  {
   "cell_type": "markdown",
   "id": "2c6803b4",
   "metadata": {},
   "source": [
    "--- \n",
    "## The decltype Type Specifier\n",
    "Sometimes we want to define a variable with a type that the compiler deduces\n",
    "from an expression but do not want to use that expression to initialize the variable."
   ]
  },
  {
   "cell_type": "code",
   "execution_count": null,
   "id": "106ec6c1",
   "metadata": {
    "scrolled": true
   },
   "outputs": [],
   "source": [
    "// decltype returns the type of that variable, including top-level const and references.\n",
    "const int ci = 0, &cj = ci;\n",
    "decltype(ci) x = 0;   // x has type const int\n",
    "decltype(cj) y = x;   // y has type const int&"
   ]
  },
  {
   "cell_type": "markdown",
   "id": "859146bf",
   "metadata": {},
   "source": [
    "#### decltype and References"
   ]
  },
  {
   "cell_type": "code",
   "execution_count": null,
   "id": "e2e57a42",
   "metadata": {
    "scrolled": true
   },
   "outputs": [],
   "source": [
    "// When we apply decltype to an expression that is not a variable, we get the type that that expression yields. (left-hand side)\n",
    "int i = 42, *p = &i, &r = i;\n",
    "// If we want the type to which r refers, we can use r in an expression, such as r+0\n",
    "decltype(r + 0) b;   // addition yields an int\n",
    "// when we dereference a pointer, we get the object to which the pointer points.\n",
    "decltype(*p) c;      // error: c is int& and must be initialized\n",
    "\n",
    "// decltype depends on the form of its given expression\n",
    "decltype((i)) d; // error: d is int& and must be initialized (decltype of a parenthesized variable is always a reference)\n",
    "decltype(i) e; // ok: e is an (uninitialized) int\n",
    "/*\n",
    "If we wrap the variable’s name in one or more sets of parentheses, the compiler will evaluate the operand \n",
    "as an expression.\n",
    "A variable is an expression that can be the left-hand side of an assignment. (&r = i) so its &\n",
    "*/"
   ]
  },
  {
   "cell_type": "markdown",
   "id": "aa86a131",
   "metadata": {},
   "source": [
    "## Defining Our Own Data Structures\n",
    "At the most basic level, a data structure is a way to group together related data\n",
    "elements and a strategy for using those data.  \n",
    "As one example, our Sales_item  \n",
    "<code style=\"background:green;color:black\">In C++ we define our own data types by defining a class.  \n",
    "The library types string, istream, and ostream are all defined as classes"
   ]
  },
  {
   "cell_type": "code",
   "execution_count": null,
   "id": "badc5a73",
   "metadata": {
    "scrolled": true
   },
   "outputs": [],
   "source": [
    "// Defining the Sales_data Type\n",
    "struct Sales_data {\n",
    "    std::string bookNo;\n",
    "    unsigned units_sold = 0;\n",
    "    double revenue = 0.0;\n",
    "};\n",
    "// The names defined inside the class must be unique within the class but can reuse names defined outside the class\n",
    "// we can define variables after the class body\n",
    "struct Sales_data1 { } accum1, trans1, *salesptr1;\n",
    "struct Sales_data2 { };\n",
    "Sales_data accum2, trans2, *salesptr2;"
   ]
  },
  {
   "cell_type": "raw",
   "id": "95105863",
   "metadata": {},
   "source": [
    "### Class Data Members\n",
    "\n",
    "The class body defines the members of the class.  \n",
    "The data members of a class define the contents of the objects of that class\n",
    "type."
   ]
  },
  {
   "cell_type": "markdown",
   "id": "fdcedfd1",
   "metadata": {},
   "source": [
    "### Using the Sales_data Class\n"
   ]
  },
  {
   "cell_type": "code",
   "execution_count": null,
   "id": "2dd20b75",
   "metadata": {
    "scrolled": true
   },
   "outputs": [],
   "source": [
    "#include \"/media/nomeer/NoMeEr/Robotics/5.C++/Books/C++.Primer.5th.Edition_2013_CODE/2/Sales_data.h\"\n",
    "#include <iostream>\n",
    "#include <string>\n",
    "\n",
    "int main()\n",
    "{\n",
    "\tSales_data data1, data2;\n",
    "\n",
    "\t// code to read into data1 and data2\n",
    "\tdouble price = 0;  // price per book, used to calculate total revenue\n",
    "\n",
    "\t// read the first transactions: ISBN, number of books sold, price per book\n",
    "\tstd::cin >> data1.bookNo >> data1.units_sold >> price;\n",
    "\t// calculate total revenue from price and units_sold\n",
    "\tdata1.revenue = data1.units_sold * price;\n",
    "\n",
    "\t// read the second transaction\n",
    "\tstd::cin >> data2.bookNo >> data2.units_sold >> price;\n",
    "\tdata2.revenue = data2.units_sold * price;\n",
    "\n",
    "\t// code to check whether data1 and data2 have the same ISBN\n",
    "\t//        and if so print the sum of data1 and data2\n",
    "\tif (data1.bookNo == data2.bookNo) {\n",
    "\t\tunsigned totalCnt = data1.units_sold + data2.units_sold;\n",
    "\t\tdouble totalRevenue = data1.revenue + data2.revenue;\n",
    "\n",
    "\t\t// print: ISBN, total sold, total revenue, average price per book\n",
    "\t\tstd::cout << data1.bookNo << \" \" << totalCnt \n",
    "\t\t          << \" \" << totalRevenue << \" \";\n",
    "\t\tif (totalCnt != 0)\n",
    "\t\t\tstd::cout << totalRevenue/totalCnt << std::endl;\n",
    "\t\telse\n",
    "\t\t\tstd::cout  << \"(no sales)\" << std::endl;\n",
    "\n",
    "\t\treturn 0;  // indicate success\n",
    "\t} else {  // transactions weren't for the same ISBN\n",
    "\t\tstd::cerr << \"Data must refer to the same ISBN\" \n",
    "\t\t          << std::endl;\n",
    "\t\treturn -1; // indicate failure\n",
    "\t}\n",
    "}\n",
    "main();"
   ]
  },
  {
   "cell_type": "markdown",
   "id": "e1c11d00",
   "metadata": {},
   "source": [
    "---\n",
    "### Writing Our Own Header Files\n",
    "In order to ensure that the class definition is the same in each file, classes are\n",
    "usually defined in header files.  \n",
    "Typically, classes are stored in headers whose name\n",
    "derives from the name of the class.  \n",
    "For example, the string library type is defined in the string header.  \n",
    "Sales_data class in a header file named Sales_data.h.\n",
    "\n",
    "> As we’ve seen, programs that use Sales_data\n",
    "also need to include the string header in order to use the bookNo member. As\n",
    "a result, programs that use Sales_data will include the string header twice:\n",
    "once directly and once as a side effect of including Sales_data.h. Because a\n",
    "header might be included more than once, we need to write our headers in a way\n",
    "that is safe even if the header is included multiple times."
   ]
  },
  {
   "cell_type": "markdown",
   "id": "f8e69ff4",
   "metadata": {},
   "source": [
    "### A Brief Introduction to the Preprocessor\n",
    "The most common technique for making it safe to include a header multiple times\n",
    "relies on the preprocessor.  \n",
    "<code style=\"background:green;color:black\">The preprocessor—which C++ inherits from C—is a program that runs before the compiler and changes the source text of our programs\n",
    "\n",
    "<code style=\"background:white;color:black\">Our programs already rely on one preprocessor facility, **#include**. When the preprocessor sees a #include, it replaces the **#include** with the contents of\n",
    "the specified header."
   ]
  },
  {
   "cell_type": "markdown",
   "id": "09b62d9b",
   "metadata": {},
   "source": [
    "* Preprocessor variables have one of two possible states: defined or not defined.\n",
    "* The **#define** directive takes a name and defines that name as a preprocessor variable"
   ]
  },
  {
   "cell_type": "markdown",
   "id": "4dbdb3bb",
   "metadata": {},
   "source": [
    "There are two other directives that test whether a given preprocessor variable has or has not been defined  \n",
    " **#ifdef** is true if the variable has been defined  \n",
    " **#ifndef** is true if the variable has not been defined  \n",
    "If the test is true, then everything following the #ifdef or\n",
    "#ifndef is processed up to the matching **#endif**."
   ]
  },
  {
   "cell_type": "code",
   "execution_count": null,
   "id": "88dfcd8c",
   "metadata": {},
   "outputs": [],
   "source": [
    "#ifndef SALES_DATA_H\n",
    "#define SALES_DATA_H\n",
    "#include <string>\n",
    "\n",
    "struct Sales_data {\n",
    "    std::string bookNo;\n",
    "    unsigned units_sold = 0;\n",
    "    double revenue = 0.0;\n",
    "};\n",
    "\n",
    "#endif\n",
    "\n",
    "/*\n",
    "The first time Sales_data.h is included, the #ifndef test will succeed. The\n",
    "preprocessor will process the lines following #ifndef up to the #endif. As a\n",
    "result, the preprocessor variable SALES_DATA_H will be defined and the contents\n",
    "of Sales_data.h will be copied into our program. If we include Sales_data.h\n",
    "later on in the same file, the #ifndef directive will be false. The lines between it\n",
    "and the #endif directive will be ignored.\n",
    "*/\n",
    "/*\n",
    "Preprocessor variables, including names of header guards, must be unique\n",
    "throughout the program. Typically we ensure uniqueness by basing the guard’s\n",
    "name on the name of a class in the header. To avoid name clashes with other entities \n",
    "in our programs, preprocessor variables usually are written in all uppercase.\n",
    "*/"
   ]
  },
  {
   "cell_type": "markdown",
   "id": "35ada9fd",
   "metadata": {},
   "source": [
    "---"
   ]
  },
  {
   "cell_type": "markdown",
   "id": "9b31a637",
   "metadata": {},
   "source": [
    "<details>\n",
    "     <summary> <button type=\"button\">click to view</button> </summary>\n",
    "        <img src=\"./C++.Primer.5th.Edition_2013_page-0001.jpg\" alt=\"Software Development Cycle\"/>\n",
    "        <img src=\"./C++.Primer.5th.Edition_2013_page-0002.jpg\" alt=\"Software Development Cycle\"/>\n",
    "        <img src=\"./C++.Primer.5th.Edition_2013_page-0003.jpg\" alt=\"Software Development Cycle\"/>\n",
    "</details>"
   ]
  },
  {
   "cell_type": "markdown",
   "id": "3788cec6",
   "metadata": {},
   "source": [
    "---"
   ]
  }
 ],
 "metadata": {
  "kernelspec": {
   "display_name": "C++17",
   "language": "C++17",
   "name": "xcpp17"
  },
  "language_info": {
   "codemirror_mode": "text/x-c++src",
   "file_extension": ".cpp",
   "mimetype": "text/x-c++src",
   "name": "c++",
   "version": "17"
  }
 },
 "nbformat": 4,
 "nbformat_minor": 5
}
